{
  "nbformat": 4,
  "nbformat_minor": 0,
  "metadata": {
    "colab": {
      "name": "Ames_House_prediction_Handling test data_&Model_building.ipynb",
      "provenance": [],
      "collapsed_sections": []
    },
    "kernelspec": {
      "name": "python3",
      "display_name": "Python 3"
    },
    "language_info": {
      "name": "python"
    }
  },
  "cells": [
    {
      "cell_type": "markdown",
      "metadata": {
        "id": "qQi8ibrUcqki"
      },
      "source": [
        "\n",
        "## **Ames House Price Prediction**\n",
        "\n",
        "### **Cleaning Test data**\n",
        "\n",
        "This is a continuation of the Ames House price prediction project. Here, the test data will be preprocessed and then the models will be built.\n"
      ]
    },
    {
      "cell_type": "code",
      "metadata": {
        "id": "Fcj3ys8ICqOL"
      },
      "source": [
        "import numpy as np\n",
        "import pandas as pd\n",
        "import matplotlib.pyplot as plt\n",
        "import seaborn as sns\n",
        "import time\n",
        "from scipy.stats import skew\n",
        "from sklearn.preprocessing import StandardScaler\n",
        "from sklearn.model_selection import train_test_split\n",
        "from sklearn.linear_model import LinearRegression\n",
        "from sklearn.ensemble import RandomForestRegressor\n",
        "from sklearn.metrics import mean_squared_error\n",
        "sns.set_palette(\"Set2\")"
      ],
      "execution_count": 1,
      "outputs": []
    },
    {
      "cell_type": "code",
      "metadata": {
        "id": "DsMGQyrHjvdP"
      },
      "source": [
        "pd.set_option('display.max_rows', 1000)\n",
        "pd.set_option('display.max_columns', 1000)"
      ],
      "execution_count": 2,
      "outputs": []
    },
    {
      "cell_type": "code",
      "metadata": {
        "id": "BNa71gX8DCKi"
      },
      "source": [
        "train_df= pd.read_csv('cleaned_train_data.csv')\n",
        "test = pd.read_csv('test.csv')"
      ],
      "execution_count": 3,
      "outputs": []
    },
    {
      "cell_type": "code",
      "metadata": {
        "colab": {
          "base_uri": "https://localhost:8080/"
        },
        "id": "JbTmcIc0A8y3",
        "outputId": "e285f663-2bf9-447a-ecb0-e296321f8b29"
      },
      "source": [
        "train_df.shape, test.shape"
      ],
      "execution_count": 4,
      "outputs": [
        {
          "output_type": "execute_result",
          "data": {
            "text/plain": [
              "((1460, 148), (1459, 80))"
            ]
          },
          "metadata": {},
          "execution_count": 4
        }
      ]
    },
    {
      "cell_type": "code",
      "metadata": {
        "colab": {
          "base_uri": "https://localhost:8080/",
          "height": 132
        },
        "id": "VRi2yDPXp0fw",
        "outputId": "9178f14e-3fce-4e31-b0ed-80eb56e3dc2a"
      },
      "source": [
        "test.head(2)"
      ],
      "execution_count": 5,
      "outputs": [
        {
          "output_type": "execute_result",
          "data": {
            "text/html": [
              "<div>\n",
              "<style scoped>\n",
              "    .dataframe tbody tr th:only-of-type {\n",
              "        vertical-align: middle;\n",
              "    }\n",
              "\n",
              "    .dataframe tbody tr th {\n",
              "        vertical-align: top;\n",
              "    }\n",
              "\n",
              "    .dataframe thead th {\n",
              "        text-align: right;\n",
              "    }\n",
              "</style>\n",
              "<table border=\"1\" class=\"dataframe\">\n",
              "  <thead>\n",
              "    <tr style=\"text-align: right;\">\n",
              "      <th></th>\n",
              "      <th>Id</th>\n",
              "      <th>MSSubClass</th>\n",
              "      <th>MSZoning</th>\n",
              "      <th>LotFrontage</th>\n",
              "      <th>LotArea</th>\n",
              "      <th>Street</th>\n",
              "      <th>Alley</th>\n",
              "      <th>LotShape</th>\n",
              "      <th>LandContour</th>\n",
              "      <th>Utilities</th>\n",
              "      <th>LotConfig</th>\n",
              "      <th>LandSlope</th>\n",
              "      <th>Neighborhood</th>\n",
              "      <th>Condition1</th>\n",
              "      <th>Condition2</th>\n",
              "      <th>BldgType</th>\n",
              "      <th>HouseStyle</th>\n",
              "      <th>OverallQual</th>\n",
              "      <th>OverallCond</th>\n",
              "      <th>YearBuilt</th>\n",
              "      <th>YearRemodAdd</th>\n",
              "      <th>RoofStyle</th>\n",
              "      <th>RoofMatl</th>\n",
              "      <th>Exterior1st</th>\n",
              "      <th>Exterior2nd</th>\n",
              "      <th>MasVnrType</th>\n",
              "      <th>MasVnrArea</th>\n",
              "      <th>ExterQual</th>\n",
              "      <th>ExterCond</th>\n",
              "      <th>Foundation</th>\n",
              "      <th>BsmtQual</th>\n",
              "      <th>BsmtCond</th>\n",
              "      <th>BsmtExposure</th>\n",
              "      <th>BsmtFinType1</th>\n",
              "      <th>BsmtFinSF1</th>\n",
              "      <th>BsmtFinType2</th>\n",
              "      <th>BsmtFinSF2</th>\n",
              "      <th>BsmtUnfSF</th>\n",
              "      <th>TotalBsmtSF</th>\n",
              "      <th>Heating</th>\n",
              "      <th>HeatingQC</th>\n",
              "      <th>CentralAir</th>\n",
              "      <th>Electrical</th>\n",
              "      <th>1stFlrSF</th>\n",
              "      <th>2ndFlrSF</th>\n",
              "      <th>LowQualFinSF</th>\n",
              "      <th>GrLivArea</th>\n",
              "      <th>BsmtFullBath</th>\n",
              "      <th>BsmtHalfBath</th>\n",
              "      <th>FullBath</th>\n",
              "      <th>HalfBath</th>\n",
              "      <th>BedroomAbvGr</th>\n",
              "      <th>KitchenAbvGr</th>\n",
              "      <th>KitchenQual</th>\n",
              "      <th>TotRmsAbvGrd</th>\n",
              "      <th>Functional</th>\n",
              "      <th>Fireplaces</th>\n",
              "      <th>FireplaceQu</th>\n",
              "      <th>GarageType</th>\n",
              "      <th>GarageYrBlt</th>\n",
              "      <th>GarageFinish</th>\n",
              "      <th>GarageCars</th>\n",
              "      <th>GarageArea</th>\n",
              "      <th>GarageQual</th>\n",
              "      <th>GarageCond</th>\n",
              "      <th>PavedDrive</th>\n",
              "      <th>WoodDeckSF</th>\n",
              "      <th>OpenPorchSF</th>\n",
              "      <th>EnclosedPorch</th>\n",
              "      <th>3SsnPorch</th>\n",
              "      <th>ScreenPorch</th>\n",
              "      <th>PoolArea</th>\n",
              "      <th>PoolQC</th>\n",
              "      <th>Fence</th>\n",
              "      <th>MiscFeature</th>\n",
              "      <th>MiscVal</th>\n",
              "      <th>MoSold</th>\n",
              "      <th>YrSold</th>\n",
              "      <th>SaleType</th>\n",
              "      <th>SaleCondition</th>\n",
              "    </tr>\n",
              "  </thead>\n",
              "  <tbody>\n",
              "    <tr>\n",
              "      <th>0</th>\n",
              "      <td>1461</td>\n",
              "      <td>20</td>\n",
              "      <td>RH</td>\n",
              "      <td>80.0</td>\n",
              "      <td>11622</td>\n",
              "      <td>Pave</td>\n",
              "      <td>NaN</td>\n",
              "      <td>Reg</td>\n",
              "      <td>Lvl</td>\n",
              "      <td>AllPub</td>\n",
              "      <td>Inside</td>\n",
              "      <td>Gtl</td>\n",
              "      <td>NAmes</td>\n",
              "      <td>Feedr</td>\n",
              "      <td>Norm</td>\n",
              "      <td>1Fam</td>\n",
              "      <td>1Story</td>\n",
              "      <td>5</td>\n",
              "      <td>6</td>\n",
              "      <td>1961</td>\n",
              "      <td>1961</td>\n",
              "      <td>Gable</td>\n",
              "      <td>CompShg</td>\n",
              "      <td>VinylSd</td>\n",
              "      <td>VinylSd</td>\n",
              "      <td>None</td>\n",
              "      <td>0.0</td>\n",
              "      <td>TA</td>\n",
              "      <td>TA</td>\n",
              "      <td>CBlock</td>\n",
              "      <td>TA</td>\n",
              "      <td>TA</td>\n",
              "      <td>No</td>\n",
              "      <td>Rec</td>\n",
              "      <td>468.0</td>\n",
              "      <td>LwQ</td>\n",
              "      <td>144.0</td>\n",
              "      <td>270.0</td>\n",
              "      <td>882.0</td>\n",
              "      <td>GasA</td>\n",
              "      <td>TA</td>\n",
              "      <td>Y</td>\n",
              "      <td>SBrkr</td>\n",
              "      <td>896</td>\n",
              "      <td>0</td>\n",
              "      <td>0</td>\n",
              "      <td>896</td>\n",
              "      <td>0.0</td>\n",
              "      <td>0.0</td>\n",
              "      <td>1</td>\n",
              "      <td>0</td>\n",
              "      <td>2</td>\n",
              "      <td>1</td>\n",
              "      <td>TA</td>\n",
              "      <td>5</td>\n",
              "      <td>Typ</td>\n",
              "      <td>0</td>\n",
              "      <td>NaN</td>\n",
              "      <td>Attchd</td>\n",
              "      <td>1961.0</td>\n",
              "      <td>Unf</td>\n",
              "      <td>1.0</td>\n",
              "      <td>730.0</td>\n",
              "      <td>TA</td>\n",
              "      <td>TA</td>\n",
              "      <td>Y</td>\n",
              "      <td>140</td>\n",
              "      <td>0</td>\n",
              "      <td>0</td>\n",
              "      <td>0</td>\n",
              "      <td>120</td>\n",
              "      <td>0</td>\n",
              "      <td>NaN</td>\n",
              "      <td>MnPrv</td>\n",
              "      <td>NaN</td>\n",
              "      <td>0</td>\n",
              "      <td>6</td>\n",
              "      <td>2010</td>\n",
              "      <td>WD</td>\n",
              "      <td>Normal</td>\n",
              "    </tr>\n",
              "    <tr>\n",
              "      <th>1</th>\n",
              "      <td>1462</td>\n",
              "      <td>20</td>\n",
              "      <td>RL</td>\n",
              "      <td>81.0</td>\n",
              "      <td>14267</td>\n",
              "      <td>Pave</td>\n",
              "      <td>NaN</td>\n",
              "      <td>IR1</td>\n",
              "      <td>Lvl</td>\n",
              "      <td>AllPub</td>\n",
              "      <td>Corner</td>\n",
              "      <td>Gtl</td>\n",
              "      <td>NAmes</td>\n",
              "      <td>Norm</td>\n",
              "      <td>Norm</td>\n",
              "      <td>1Fam</td>\n",
              "      <td>1Story</td>\n",
              "      <td>6</td>\n",
              "      <td>6</td>\n",
              "      <td>1958</td>\n",
              "      <td>1958</td>\n",
              "      <td>Hip</td>\n",
              "      <td>CompShg</td>\n",
              "      <td>Wd Sdng</td>\n",
              "      <td>Wd Sdng</td>\n",
              "      <td>BrkFace</td>\n",
              "      <td>108.0</td>\n",
              "      <td>TA</td>\n",
              "      <td>TA</td>\n",
              "      <td>CBlock</td>\n",
              "      <td>TA</td>\n",
              "      <td>TA</td>\n",
              "      <td>No</td>\n",
              "      <td>ALQ</td>\n",
              "      <td>923.0</td>\n",
              "      <td>Unf</td>\n",
              "      <td>0.0</td>\n",
              "      <td>406.0</td>\n",
              "      <td>1329.0</td>\n",
              "      <td>GasA</td>\n",
              "      <td>TA</td>\n",
              "      <td>Y</td>\n",
              "      <td>SBrkr</td>\n",
              "      <td>1329</td>\n",
              "      <td>0</td>\n",
              "      <td>0</td>\n",
              "      <td>1329</td>\n",
              "      <td>0.0</td>\n",
              "      <td>0.0</td>\n",
              "      <td>1</td>\n",
              "      <td>1</td>\n",
              "      <td>3</td>\n",
              "      <td>1</td>\n",
              "      <td>Gd</td>\n",
              "      <td>6</td>\n",
              "      <td>Typ</td>\n",
              "      <td>0</td>\n",
              "      <td>NaN</td>\n",
              "      <td>Attchd</td>\n",
              "      <td>1958.0</td>\n",
              "      <td>Unf</td>\n",
              "      <td>1.0</td>\n",
              "      <td>312.0</td>\n",
              "      <td>TA</td>\n",
              "      <td>TA</td>\n",
              "      <td>Y</td>\n",
              "      <td>393</td>\n",
              "      <td>36</td>\n",
              "      <td>0</td>\n",
              "      <td>0</td>\n",
              "      <td>0</td>\n",
              "      <td>0</td>\n",
              "      <td>NaN</td>\n",
              "      <td>NaN</td>\n",
              "      <td>Gar2</td>\n",
              "      <td>12500</td>\n",
              "      <td>6</td>\n",
              "      <td>2010</td>\n",
              "      <td>WD</td>\n",
              "      <td>Normal</td>\n",
              "    </tr>\n",
              "  </tbody>\n",
              "</table>\n",
              "</div>"
            ],
            "text/plain": [
              "     Id  MSSubClass MSZoning  LotFrontage  LotArea Street Alley LotShape  \\\n",
              "0  1461          20       RH         80.0    11622   Pave   NaN      Reg   \n",
              "1  1462          20       RL         81.0    14267   Pave   NaN      IR1   \n",
              "\n",
              "  LandContour Utilities LotConfig LandSlope Neighborhood Condition1  \\\n",
              "0         Lvl    AllPub    Inside       Gtl        NAmes      Feedr   \n",
              "1         Lvl    AllPub    Corner       Gtl        NAmes       Norm   \n",
              "\n",
              "  Condition2 BldgType HouseStyle  OverallQual  OverallCond  YearBuilt  \\\n",
              "0       Norm     1Fam     1Story            5            6       1961   \n",
              "1       Norm     1Fam     1Story            6            6       1958   \n",
              "\n",
              "   YearRemodAdd RoofStyle RoofMatl Exterior1st Exterior2nd MasVnrType  \\\n",
              "0          1961     Gable  CompShg     VinylSd     VinylSd       None   \n",
              "1          1958       Hip  CompShg     Wd Sdng     Wd Sdng    BrkFace   \n",
              "\n",
              "   MasVnrArea ExterQual ExterCond Foundation BsmtQual BsmtCond BsmtExposure  \\\n",
              "0         0.0        TA        TA     CBlock       TA       TA           No   \n",
              "1       108.0        TA        TA     CBlock       TA       TA           No   \n",
              "\n",
              "  BsmtFinType1  BsmtFinSF1 BsmtFinType2  BsmtFinSF2  BsmtUnfSF  TotalBsmtSF  \\\n",
              "0          Rec       468.0          LwQ       144.0      270.0        882.0   \n",
              "1          ALQ       923.0          Unf         0.0      406.0       1329.0   \n",
              "\n",
              "  Heating HeatingQC CentralAir Electrical  1stFlrSF  2ndFlrSF  LowQualFinSF  \\\n",
              "0    GasA        TA          Y      SBrkr       896         0             0   \n",
              "1    GasA        TA          Y      SBrkr      1329         0             0   \n",
              "\n",
              "   GrLivArea  BsmtFullBath  BsmtHalfBath  FullBath  HalfBath  BedroomAbvGr  \\\n",
              "0        896           0.0           0.0         1         0             2   \n",
              "1       1329           0.0           0.0         1         1             3   \n",
              "\n",
              "   KitchenAbvGr KitchenQual  TotRmsAbvGrd Functional  Fireplaces FireplaceQu  \\\n",
              "0             1          TA             5        Typ           0         NaN   \n",
              "1             1          Gd             6        Typ           0         NaN   \n",
              "\n",
              "  GarageType  GarageYrBlt GarageFinish  GarageCars  GarageArea GarageQual  \\\n",
              "0     Attchd       1961.0          Unf         1.0       730.0         TA   \n",
              "1     Attchd       1958.0          Unf         1.0       312.0         TA   \n",
              "\n",
              "  GarageCond PavedDrive  WoodDeckSF  OpenPorchSF  EnclosedPorch  3SsnPorch  \\\n",
              "0         TA          Y         140            0              0          0   \n",
              "1         TA          Y         393           36              0          0   \n",
              "\n",
              "   ScreenPorch  PoolArea PoolQC  Fence MiscFeature  MiscVal  MoSold  YrSold  \\\n",
              "0          120         0    NaN  MnPrv         NaN        0       6    2010   \n",
              "1            0         0    NaN    NaN        Gar2    12500       6    2010   \n",
              "\n",
              "  SaleType SaleCondition  \n",
              "0       WD        Normal  \n",
              "1       WD        Normal  "
            ]
          },
          "metadata": {},
          "execution_count": 5
        }
      ]
    },
    {
      "cell_type": "code",
      "metadata": {
        "id": "IxQpnxqRgB2E"
      },
      "source": [
        "test_num= test.select_dtypes(exclude=['object']).drop(['Id', 'MSSubClass'], axis= 1)\n",
        "test_numeric= test_num.copy()\n",
        "\n",
        "test_category= test.select_dtypes(include=['object'])\n",
        "test_cat= test_category.copy()\n",
        "test_cat['MSSubClass']= test['MSSubClass'].astype(str)"
      ],
      "execution_count": 6,
      "outputs": []
    },
    {
      "cell_type": "code",
      "metadata": {
        "colab": {
          "base_uri": "https://localhost:8080/",
          "height": 577
        },
        "id": "MrodIfYDd7GD",
        "outputId": "7d1ecde6-ad3c-4ba9-82a7-820045dbffc4"
      },
      "source": [
        "# Missing values\n",
        "f = plt.figure(figsize=(12, 8))\n",
        "missing_values = test.isnull().sum()/len(train_df) * 100\n",
        "missing_values = missing_values[missing_values > 0]\n",
        "missing_values.sort_values(inplace=True)\n",
        "missing_values.plot.bar()\n",
        "plt.title('Distribution of missing values in the test set')"
      ],
      "execution_count": 7,
      "outputs": [
        {
          "output_type": "execute_result",
          "data": {
            "text/plain": [
              "Text(0.5, 1.0, 'Distribution of missing values in the test set')"
            ]
          },
          "metadata": {},
          "execution_count": 7
        },
        {
          "output_type": "display_data",
          "data": {
            "image/png": "[encoded data removed]",
            "text/plain": [
              "<Figure size 864x576 with 1 Axes>"
            ]
          },
          "metadata": {
            "needs_background": "light"
          }
        }
      ]
    },
    {
      "cell_type": "markdown",
      "metadata": {
        "id": "Srpea4wxrzXc"
      },
      "source": [
        "Some features have missing values in the test set as opposed to the train set. They will be inputed based on the type of variable."
      ]
    },
    {
      "cell_type": "code",
      "metadata": {
        "id": "KK_8nX39zVK-",
        "cellView": "code"
      },
      "source": [
        "# Ordinal categories\n",
        "\n",
        "ordinal_cat_features= ['LotShape', 'Utilities','LandSlope','ExterQual','BsmtQual', 'BsmtCond', 'BsmtExposure','BsmtFinType1', \n",
        "                       'BsmtFinType2','HeatingQC', 'Electrical', 'KitchenQual','Functional', 'FireplaceQu',\n",
        "                       'GarageType', 'GarageFinish', 'GarageQual','GarageCond', 'PavedDrive', 'PoolQC', 'Fence', 'CentralAir', 'ExterCond']\n",
        "\n",
        "test_cat['LotShape'] = test_cat['LotShape'].replace({'Reg': 3, 'IR1': 2, 'IR2': 2, 'IR3': 1})\n",
        "test_cat['Utilities'] = test_cat['Utilities'].replace({'AllPub': 2, 'NoSeWa': 1})\n",
        "test_cat['LandSlope'] = test_cat['LandSlope'].replace({'Gtl': 3, 'Mod': 2, 'Sev': 1})\n",
        "test_cat['ExterQual'] = test_cat['ExterQual'].replace({'Gd': 3, 'TA': 2, 'Ex': 4, 'Fa': 1})\n",
        "test_cat['BsmtQual'] = test_cat['BsmtQual'].replace({'Gd': 3, 'TA': 2, 'Ex': 4, 'Fa': 1})\n",
        "test_cat['BsmtCond'] = test_cat['BsmtCond'].replace({'TA':3, 'Gd':4, 'Fa':2, 'Po': 1})\n",
        "test_cat['BsmtExposure'] = test_cat['BsmtExposure'].replace({'No': 1,  'Gd': 4, 'Mn': 2, 'Av': 3})\n",
        "test_cat['BsmtFinType1'] = test_cat['BsmtFinType1'].replace({'GLQ': 3, 'ALQ': 2,  'Unf': 1, 'Rec': 2, 'BLQ': 1, 'LwQ': 1})\n",
        "test_cat['BsmtFinType2'] = test_cat['BsmtFinType2'].replace({'GLQ': 3, 'ALQ': 2,  'Unf': 1, 'Rec': 2, 'BLQ': 1, 'LwQ': 1})\n",
        "test_cat['HeatingQC'] = test_cat['HeatingQC'].replace({'Ex': 5, 'Gd': 4, 'TA': 3, 'Fa': 2, 'Po': 1})\n",
        "test_cat['Electrical'] = test_cat['Electrical'].replace({'SBrkr': 4, 'FuseF': 2, 'FuseA': 3, 'FuseP': 1, 'Mix': 3 })\n",
        "test_cat['KitchenQual'] = test_cat['KitchenQual'].replace({'Gd':3, 'TA': 2, 'Ex': 4, 'Fa': 1})\n",
        "test_cat['Functional'] = test_cat['Functional'].replace({'Typ': 4, 'Min1': 3, 'Maj1': 2, 'Min2': 3,  'Mod': 3, 'Maj2': 2, 'Sev': 1})\n",
        "test_cat['FireplaceQu'] = test_cat['FireplaceQu'].replace({'TA': 2, 'Gd': 3, 'Fa': 2, 'Ex': 4,  'Po': 1})\n",
        "\n",
        "test_cat['GarageType'] = test_cat['GarageType'].replace({'Attchd':2, 'Detchd': 1, 'BuiltIn': 2, 'CarPort': 1, 'Basment': 2, '2Types': 2})\n",
        "\n",
        "test_cat['GarageFinish'] = test_cat['GarageFinish'].replace({'RFn':2,  'Unf':1, 'Fin': 3})\n",
        "\n",
        "test_cat['GarageQual'] = test_cat['GarageQual'].replace({'TA': 3, 'Fa': 2, 'Gd': 4, 'Ex': 5, 'Po': 1})\n",
        "test_cat['GarageCond'] = test_cat['GarageCond'].replace({'TA': 3, 'Fa': 2, 'Gd': 4, 'Ex': 5, 'Po': 1})\n",
        "test_cat['PavedDrive'] = test_cat['PavedDrive'].replace({'Y': 3, 'N': 1, 'P': 2})\n",
        "test_cat['PoolQC'] = test_cat['PoolQC'].replace({'Ex':3, 'Fa': 2, 'Gd':1})\n",
        "test_cat['Fence'] = test_cat['Fence'].replace({'MnPrv': 3, 'GdWo':2, 'GdPrv': 4, 'MnWw': 1})\n",
        "test_cat['CentralAir'] = test_cat['CentralAir'].replace({'Y': 1, 'N': 0})\n",
        "test_cat['ExterCond'] = test_cat['ExterCond'].replace({'TA': 3, 'Gd': 4, 'Fa': 2, 'Ex': 5, 'Po': 1})"
      ],
      "execution_count": 8,
      "outputs": []
    },
    {
      "cell_type": "markdown",
      "metadata": {
        "id": "UlYdEfaAd-SC"
      },
      "source": [
        "#### **Preprocessing**\n",
        "\n",
        "##### **Data Cleaning**"
      ]
    },
    {
      "cell_type": "code",
      "metadata": {
        "id": "7lv05yWIftcl"
      },
      "source": [
        "test_numeric['LotFrontage'] = test_numeric['LotFrontage'].fillna(test_numeric['LotFrontage'].median())\n",
        "test_numeric['MasVnrArea'] = test_numeric['MasVnrArea'].fillna(test_numeric['MasVnrArea'].median())\n",
        "test_numeric['GarageYrBlt'] = test_numeric['GarageYrBlt'].fillna(0)\n",
        "test_numeric= test_numeric.fillna(0)\n",
        "\n",
        "test_cat[ordinal_cat_features]= test_cat[ordinal_cat_features].fillna(0)\n",
        "\n",
        "nominal_features= ['MSZoning', 'Exterior1st', 'Exterior2nd', 'SaleType']\n",
        "\n",
        "test_cat[nominal_features]= test_cat[nominal_features].fillna(0)\n",
        "\n",
        "test_cat['MasVnrType'] = test_cat['MasVnrType'].fillna(test_cat['MasVnrType'].mode()[0])"
      ],
      "execution_count": 9,
      "outputs": []
    },
    {
      "cell_type": "markdown",
      "metadata": {
        "id": "gJaLwpnXjlR3"
      },
      "source": [
        "##### **Feature Engineering**"
      ]
    },
    {
      "cell_type": "markdown",
      "metadata": {
        "id": "dlx9a4Eu8fc1"
      },
      "source": [
        "##### **Generating new features**"
      ]
    },
    {
      "cell_type": "code",
      "metadata": {
        "id": "TLhXzfof8nRz",
        "colab": {
          "base_uri": "https://localhost:8080/"
        },
        "outputId": "f885a6e0-f0ee-418d-b55f-16564c577a6f"
      },
      "source": [
        "test_numeric[\"LivLotRatio\"] = test_numeric[\"GrLivArea\"] / test_numeric[\"LotArea\"]\n",
        "test_numeric[\"Spaciousness\"] = (test_numeric[\"1stFlrSF\"] + test_numeric[\"2ndFlrSF\"]) / test_numeric[\"TotRmsAbvGrd\"]\n",
        "test_numeric[\"TotalOutsideSF\"] = test_numeric['WoodDeckSF'] + test_numeric['OpenPorchSF'] + test_numeric['EnclosedPorch'] + test_numeric[\"3SsnPorch\"] + test_numeric[\"ScreenPorch\"]\n",
        "test_numeric[\"PorchCount\"] = test_numeric[[\"WoodDeckSF\", \"OpenPorchSF\", \"EnclosedPorch\", \"3SsnPorch\", \"ScreenPorch\"]].gt(0.0).sum(axis=1)\n",
        "\n",
        "test_numeric[\"OverallGrade\"] = test_numeric[\"OverallQual\"] * test_numeric[\"OverallCond\"]\n",
        "test_numeric[\"GarageGrade\"] = test_cat[\"GarageQual\"]* test_cat[\"GarageCond\"]\n",
        "test_numeric[\"ExterGrade\"] = test_cat[\"ExterQual\"] * test_cat[\"ExterCond\"]\n",
        "test_numeric[\"KitchenGrade\"] = test_numeric[\"KitchenAbvGr\"] * test_cat[\"KitchenQual\"]\n",
        "test_numeric[\"FireplaceGrade\"] = test_numeric[\"Fireplaces\"] * test_cat[\"FireplaceQu\"]\n",
        "test_numeric[\"GarageGrade\"] = test_numeric[\"GarageArea\"] * test_cat[\"GarageQual\"]\n",
        "test_numeric[\"GarageScore\"] = test_numeric[\"GarageArea\"] * test_cat[\"GarageQual\"]\n",
        "test_numeric[\"TotalBath\"] = test_numeric[\"BsmtFullBath\"] + (0.5 * test_numeric[\"BsmtHalfBath\"]) + test_numeric[\"FullBath\"] + (0.5 * test_numeric[\"HalfBath\"])\n",
        "test_numeric[\"AllSF\"] = test_numeric[\"GrLivArea\"] + test_numeric[\"TotalBsmtSF\"]\n",
        "\n",
        "test_numeric[\"house_age\"] = test_numeric[\"YearBuilt\"].apply(lambda x: pd.datetime.now().year - x)\n",
        "test_numeric[\"no_years_since_sold\"] = test_numeric[\"YrSold\"].apply(lambda x: pd.datetime.now().year - x)\n",
        "\n",
        "def season(month_sold):\n",
        "    if month_sold >= 3 and month_sold <= 5:\n",
        "        return 'spring'\n",
        "    elif month_sold >= 6 and month_sold <= 8:\n",
        "        return 'summer'\n",
        "    elif month_sold >= 9 and month_sold <= 11:\n",
        "        return 'autumn'\n",
        "    else:\n",
        "        return 'winter'\n",
        "\n",
        "test_cat[\"sale_season\"] = test_numeric[\"MoSold\"].apply(season)\n",
        "\n",
        "BldgType_dummy = pd.get_dummies(test_cat.BldgType, prefix=\"Bldg\")\n",
        "new_features1 = BldgType_dummy.mul(test_numeric.GrLivArea, axis=0)\n",
        "\n",
        "new_features2= pd.DataFrame()\n",
        "\n",
        "new_features2[\"Median_neigh_area\"] = test.groupby(\"Neighborhood\")[\"GrLivArea\"].transform(\"median\")\n",
        "\n",
        "\n",
        "test_numeric = test_numeric.join([new_features1, new_features2])\n",
        "\n",
        "test_cat[\"HasMasVnr\"] = test_cat['MasVnrType'].replace({\"BrkCmn\" : 1, \"BrkFace\" : 1, \"CBlock\" : 1, \n",
        "                                               \"Stone\" : 1, \"None\" : 0})"
      ],
      "execution_count": 10,
      "outputs": [
        {
          "output_type": "stream",
          "name": "stderr",
          "text": [
            "/usr/local/lib/python3.7/dist-packages/ipykernel_launcher.py:16: FutureWarning: The pandas.datetime class is deprecated and will be removed from pandas in a future version. Import from datetime module instead.\n",
            "  app.launch_new_instance()\n",
            "/usr/local/lib/python3.7/dist-packages/ipykernel_launcher.py:17: FutureWarning: The pandas.datetime class is deprecated and will be removed from pandas in a future version. Import from datetime module instead.\n"
          ]
        }
      ]
    },
    {
      "cell_type": "code",
      "metadata": {
        "id": "Koz9UAq04kcc"
      },
      "source": [
        "test_numeric[\"OverallQual_2\"] = test_numeric[\"OverallQual\"] ** 2\n",
        "test_numeric[\"OverallQual_3\"] = test_numeric[\"OverallQual\"] ** 3\n",
        "test_numeric[\"OverallQual_sq\"] = np.sqrt(test_numeric[\"OverallQual\"])\n",
        "\n",
        "test_numeric[\"AllSF_2\"] = test_numeric[\"AllSF\"] ** 2\n",
        "test_numeric[\"AllSF_3\"] = test_numeric[\"AllSF\"] ** 3\n",
        "test_numeric[\"AllSF_sq\"] = np.sqrt(test_numeric[\"AllSF\"])\n",
        "\n",
        "test_numeric[\"GrLivArea_2\"] = test_numeric[\"GrLivArea\"] ** 2\n",
        "test_numeric[\"GrLivArea_3\"] = test_numeric[\"GrLivArea\"] ** 3\n",
        "test_numeric[\"GrLivArea_sq\"] = np.sqrt(test_numeric[\"GrLivArea\"]\n",
        "                                           )\n",
        "test_numeric[\"Median_neigh_area_2\"] = test_numeric[\"Median_neigh_area\"] ** 2\n",
        "test_numeric[\"Median_neigh_area_3\"] = test_numeric[\"Median_neigh_area\"] ** 3\n",
        "test_numeric[\"Median_neigh_area_sq\"] = np.sqrt(test_numeric[\"Median_neigh_area\"])\n",
        "\n",
        "test_numeric[\"GarageCars_2\"] = test_numeric[\"GarageCars\"] ** 2\n",
        "test_numeric[\"GarageCars_3\"] = test_numeric[\"GarageCars\"] ** 3\n",
        "test_numeric[\"GarageCars_sq\"] = np.sqrt(test_numeric[\"GarageCars\"])\n",
        "\n",
        "test_numeric[\"TotalBath_2\"] = test_numeric[\"TotalBath\"] ** 2\n",
        "test_numeric[\"TotalBath_3\"] = test_numeric[\"TotalBath\"] ** 3\n",
        "test_numeric[\"TotalBath_sq\"] = np.sqrt(test_numeric[\"TotalBath\"])\n",
        "\n",
        "test_numeric[\"GarageScore_2\"] = test_numeric[\"GarageScore\"] ** 2\n",
        "test_numeric[\"GarageScore_3\"] = test_numeric[\"GarageScore\"] ** 3\n",
        "test_numeric[\"GarageScore_sq\"] = np.sqrt(test_numeric[\"GarageScore\"])\n",
        "\n",
        "test_numeric[\"GarageGrade_2\"] = test_numeric[\"GarageGrade\"] ** 2\n",
        "test_numeric[\"GarageGrade_3\"] = test_numeric[\"GarageGrade\"] ** 3\n",
        "test_numeric[\"GarageGrade_sq\"] = np.sqrt(test_numeric[\"GarageGrade\"])\n",
        "\n",
        "test_numeric[\"GarageArea_2\"] = test_numeric[\"GarageArea\"] ** 2\n",
        "test_numeric[\"GarageArea_3\"] = test_numeric[\"GarageArea\"] ** 3\n",
        "test_numeric[\"GarageArea_sq\"] = np.sqrt(test_numeric[\"GarageArea\"])\n",
        "\n",
        "test_numeric[\"ExterGrade_2\"] = test_numeric[\"ExterGrade\"] ** 2\n",
        "test_numeric[\"ExterGrade_3\"] = test_numeric[\"ExterGrade\"] ** 3\n",
        "test_numeric[\"ExterGrade_sq\"] = np.sqrt(test_numeric[\"ExterGrade\"])\n",
        "\n",
        "test_numeric[\"TotalBsmtSF_2\"] = test_numeric[\"TotalBsmtSF\"] ** 2\n",
        "test_numeric[\"TotalBsmtSF_3\"] = test_numeric[\"TotalBsmtSF\"] ** 3\n",
        "test_numeric[\"TotalBsmtSF_sq\"] = np.sqrt(test_numeric[\"TotalBsmtSF\"])\n",
        "\n",
        "test_numeric[\"1stFlrSF_2\"] = test_numeric[\"1stFlrSF\"] ** 2\n",
        "test_numeric[\"1stFlrSF_3\"] = test_numeric[\"1stFlrSF\"] ** 3\n",
        "test_numeric[\"1stFlrSF_sq\"] = np.sqrt(test_numeric[\"1stFlrSF\"])\n",
        "\n",
        "test_numeric[\"OverallGrade_2\"] = test_numeric[\"OverallGrade\"] ** 2\n",
        "test_numeric[\"OverallGrade_3\"] = test_numeric[\"OverallGrade\"] ** 3\n",
        "test_numeric[\"OverallGrade_sq\"] = np.sqrt(test_numeric[\"OverallGrade\"])\n",
        "\n",
        "test_numeric[\"Bldg_1Fam_2\"] = test_numeric[\"Bldg_1Fam\"] ** 2\n",
        "test_numeric[\"Bldg_1Fam_3\"] = test_numeric[\"Bldg_1Fam\"] ** 3\n",
        "test_numeric[\"Bldg_1Fam_sq\"] = np.sqrt(test_numeric[\"Bldg_1Fam\"])\n",
        "\n",
        "test_numeric[\"FullBath_2\"] = test_numeric[\"FullBath\"] ** 2\n",
        "test_numeric[\"FullBath_3\"] = test_numeric[\"FullBath\"] ** 3\n",
        "test_numeric[\"FullBath_sq\"] = np.sqrt(test_numeric[\"FullBath\"])"
      ],
      "execution_count": 11,
      "outputs": []
    },
    {
      "cell_type": "code",
      "metadata": {
        "colab": {
          "base_uri": "https://localhost:8080/"
        },
        "id": "nAQDbvFc_T_7",
        "outputId": "fde5ebf6-82ca-4440-b1b2-ab68360a2932"
      },
      "source": [
        "skewness = test_numeric.apply(lambda x: skew(x))\n",
        "skewness = skewness[abs(skewness) > 0.5]\n",
        "skewed_features = skewness.index\n",
        "test_numeric[skewed_features] = np.log1p(test_numeric[skewed_features])\n",
        "print(str(skewness.shape[0]) + \" skewed numerical features was normalised\")"
      ],
      "execution_count": 12,
      "outputs": [
        {
          "output_type": "stream",
          "name": "stdout",
          "text": [
            "79 skewed numerical features was normalised\n"
          ]
        }
      ]
    },
    {
      "cell_type": "code",
      "metadata": {
        "id": "Tk0UQZQks_E7"
      },
      "source": [
        "test_numeric['HasBasement'] = test_numeric['TotalBsmtSF'].apply(lambda x: 1 if x > 0 else 0)\n",
        "test_numeric['HasGarage'] = test_numeric['GarageArea'].apply(lambda x: 1 if x > 0 else 0)\n",
        "test_numeric['Has2ndFloor'] = test_numeric['2ndFlrSF'].apply(lambda x: 1 if x > 0 else 0)\n",
        "test_numeric['HasWoodDeck'] = test_numeric['WoodDeckSF'].apply(lambda x: 1 if x > 0 else 0)\n",
        "test_numeric['HasPorch'] = test_numeric['OpenPorchSF'].apply(lambda x: 1 if x > 0 else 0)\n",
        "test_numeric['HasPool'] = test_numeric['PoolArea'].apply(lambda x: 1 if x > 0 else 0)\n",
        "test_numeric['IsNew'] = test_numeric['YearBuilt'].apply(lambda x: 1 if x > 2000 else 0)\n",
        "test_numeric[\"Has_LowQualFinSF\"] = test_numeric[\"LowQualFinSF\"].apply(lambda x: False if x==0 else True)\n",
        "test_numeric[\"RecentRemodLargeBsmt\"] = test_numeric.YearRemodAdd * test_numeric.TotalBsmtSF"
      ],
      "execution_count": 13,
      "outputs": []
    },
    {
      "cell_type": "code",
      "metadata": {
        "id": "oNSdYd64nHDc"
      },
      "source": [
        "cleaned_test= pd.concat([test_numeric, test_cat], axis= 1)\n",
        "\n",
        "cleaned_test.drop(['GarageYrBlt','GarageCond', 'Utilities', 'Alley', 'MiscFeature', 'YearBuilt', 'YrSold', 'Street'], axis= 1, inplace= True)"
      ],
      "execution_count": 14,
      "outputs": []
    },
    {
      "cell_type": "code",
      "metadata": {
        "colab": {
          "base_uri": "https://localhost:8080/"
        },
        "id": "AiG7fVjrAUoY",
        "outputId": "99fb1771-3c89-456f-b329-35af1e09ad8e"
      },
      "source": [
        "cleaned_test.shape, train_df.shape"
      ],
      "execution_count": 15,
      "outputs": [
        {
          "output_type": "execute_result",
          "data": {
            "text/plain": [
              "((1459, 147), (1460, 148))"
            ]
          },
          "metadata": {},
          "execution_count": 15
        }
      ]
    },
    {
      "cell_type": "code",
      "metadata": {
        "id": "RQVzoGMxAtm8"
      },
      "source": [
        "cleaned_train_df= train_df.copy()\n",
        "cleaned_train_df.drop('SalePrice', axis=1, inplace= True) \n",
        "\n",
        "cleaned_train_df['label'] = 'train'\n",
        "cleaned_test['label'] = 'test'\n",
        "\n",
        "concat_df = pd.concat([cleaned_train_df , cleaned_test])\n",
        "\n",
        "cat_dummies = pd.get_dummies(concat_df, columns= ['MSZoning', 'LandContour', 'LotConfig', 'Neighborhood', 'Condition1', 'Condition2',\n",
        "                                                  'BldgType', 'HouseStyle', 'RoofStyle', 'RoofMatl', 'Exterior1st', 'Exterior2nd', 'MasVnrType', 'Foundation', \n",
        "                                                  'Heating', 'SaleType', 'SaleCondition', 'sale_season'],drop_first= True)\n",
        "\n",
        "\n",
        "dummy_train_df= cat_dummies[cat_dummies['label'] == 'train']\n",
        "dummy_test= cat_dummies[cat_dummies['label'] == 'test']\n",
        "\n",
        "dummy_train_df = dummy_train_df.drop('label', axis=1)\n",
        "dummy_test = dummy_test.drop('label', axis=1)"
      ],
      "execution_count": 16,
      "outputs": []
    },
    {
      "cell_type": "code",
      "metadata": {
        "colab": {
          "base_uri": "https://localhost:8080/"
        },
        "id": "766nk3mZEcuQ",
        "outputId": "2e0c9646-d4c9-418f-cb96-ea301fb1c6da"
      },
      "source": [
        "dummy_train_df.shape, dummy_test.shape"
      ],
      "execution_count": 17,
      "outputs": [
        {
          "output_type": "execute_result",
          "data": {
            "text/plain": [
              "((1460, 264), (1459, 264))"
            ]
          },
          "metadata": {},
          "execution_count": 17
        }
      ]
    },
    {
      "cell_type": "code",
      "metadata": {
        "id": "fIlkodokE-hf"
      },
      "source": [
        "dummy_train_df.to_csv('processed_train.csv', index= False)\n",
        "dummy_test.to_csv('processed_test.csv', index= False)"
      ],
      "execution_count": 18,
      "outputs": []
    },
    {
      "cell_type": "code",
      "metadata": {
        "id": "jJMjhd_5oonh"
      },
      "source": [
        "train= pd.read_csv('train.csv')\n",
        "y= train['SalePrice']"
      ],
      "execution_count": 19,
      "outputs": []
    },
    {
      "cell_type": "code",
      "metadata": {
        "id": "MEMi0fsWzsWJ"
      },
      "source": [
        "y_clean= train_df['SalePrice']\n",
        "train_scaled_features = StandardScaler().fit_transform(dummy_train_df)\n",
        "test_scaled_features = StandardScaler().fit_transform(dummy_test)"
      ],
      "execution_count": 20,
      "outputs": []
    },
    {
      "cell_type": "code",
      "metadata": {
        "id": "y6iP8RcKeOE-"
      },
      "source": [
        "X_train, X_valid, y_train, y_valid= train_test_split(train_scaled_features, y_clean, test_size= 0.2, random_state= 2)"
      ],
      "execution_count": 21,
      "outputs": []
    },
    {
      "cell_type": "code",
      "metadata": {
        "colab": {
          "base_uri": "https://localhost:8080/"
        },
        "id": "7l-JeA2H6ord",
        "outputId": "d6b2eeb8-010d-4af3-c4d2-64ed4ce2554e"
      },
      "source": [
        "dummy_train_df.shape"
      ],
      "execution_count": 22,
      "outputs": [
        {
          "output_type": "execute_result",
          "data": {
            "text/plain": [
              "(1460, 264)"
            ]
          },
          "metadata": {},
          "execution_count": 22
        }
      ]
    },
    {
      "cell_type": "code",
      "metadata": {
        "id": "xFzbqNcUdmR2"
      },
      "source": [
        "def score_dataset_LR(X_train, X_valid, y_train, y_valid):\n",
        "    model = LinearRegression()\n",
        "    model.fit(X_train, y_train)\n",
        "    preds = model.predict(X_valid)\n",
        "    rmse= mean_squared_error(np.log(y_valid), np.log(preds), squared= False)\n",
        "    return rmse\n",
        "\n",
        "\n",
        "def score_dataset_RF(X_train, X_valid, y_train, y_valid):\n",
        "    model = RandomForestRegressor(random_state= 50)\n",
        "    model.fit(X_train, y_train)\n",
        "    preds = model.predict(X_valid)\n",
        "    rmse= mean_squared_error(y_valid, preds, squared= False)\n",
        "    return rmse"
      ],
      "execution_count": 50,
      "outputs": []
    },
    {
      "cell_type": "code",
      "metadata": {
        "id": "imZWUJhTvBcm",
        "colab": {
          "base_uri": "https://localhost:8080/"
        },
        "outputId": "c3c59494-64df-4ae8-cf22-afe7f4464ae0"
      },
      "source": [
        "start = time.time()\n",
        "rmse_LR= score_dataset_LR(X_train, X_valid, y_train, y_valid)\n",
        "LR_training_time= time.time() - start\n",
        "rmse_LR"
      ],
      "execution_count": 51,
      "outputs": [
        {
          "output_type": "execute_result",
          "data": {
            "text/plain": [
              "1.2478524346227078"
            ]
          },
          "metadata": {},
          "execution_count": 51
        }
      ]
    },
    {
      "cell_type": "code",
      "metadata": {
        "id": "QtKViqykvd8e",
        "colab": {
          "base_uri": "https://localhost:8080/"
        },
        "outputId": "bdf99d7b-e1e8-4b43-a77f-6fadd78a0383"
      },
      "source": [
        "start = time.time()\n",
        "rmse_RF= score_dataset_RF(X_train, X_valid, y_train, y_valid)\n",
        "RF_training_time= time.time() - start\n",
        "rmse_RF"
      ],
      "execution_count": 52,
      "outputs": [
        {
          "output_type": "execute_result",
          "data": {
            "text/plain": [
              "0.13821239071640012"
            ]
          },
          "metadata": {},
          "execution_count": 52
        }
      ]
    },
    {
      "cell_type": "code",
      "metadata": {
        "id": "IbzbLn9d6jfc"
      },
      "source": [
        "model_LR = LinearRegression()\n",
        "model_LR.fit(train_scaled_features, y)\n",
        "\n",
        "start = time.time()\n",
        "\n",
        "test_preds = model_LR.predict(test_scaled_features)\n",
        "\n",
        "LR_inference_time= time.time() - start"
      ],
      "execution_count": 53,
      "outputs": []
    },
    {
      "cell_type": "code",
      "metadata": {
        "id": "fRbOG_F77IJb"
      },
      "source": [
        "model_RF = RandomForestRegressor(random_state=50)\n",
        "model_RF.fit(train_scaled_features, y)\n",
        "\n",
        "start = time.time()\n",
        "\n",
        "test_preds2 = model_RF.predict(test_scaled_features)\n",
        "\n",
        "RF_inference_time= time.time() - start"
      ],
      "execution_count": 54,
      "outputs": []
    },
    {
      "cell_type": "code",
      "metadata": {
        "colab": {
          "base_uri": "https://localhost:8080/",
          "height": 112
        },
        "id": "Ls2Ia1-A0yvn",
        "outputId": "15b39349-9db8-4ca0-8317-518c1140f64b"
      },
      "source": [
        "results = pd.DataFrame({'Models':['Linear Regression','Random Forest'], 'Training time':[LR_training_time, RF_training_time], \n",
        "                          'Inference time':[LR_inference_time, RF_inference_time], 'rmse':[rmse_LR, rmse_RF]})\n",
        "results"
      ],
      "execution_count": 55,
      "outputs": [
        {
          "output_type": "execute_result",
          "data": {
            "text/html": [
              "<div>\n",
              "<style scoped>\n",
              "    .dataframe tbody tr th:only-of-type {\n",
              "        vertical-align: middle;\n",
              "    }\n",
              "\n",
              "    .dataframe tbody tr th {\n",
              "        vertical-align: top;\n",
              "    }\n",
              "\n",
              "    .dataframe thead th {\n",
              "        text-align: right;\n",
              "    }\n",
              "</style>\n",
              "<table border=\"1\" class=\"dataframe\">\n",
              "  <thead>\n",
              "    <tr style=\"text-align: right;\">\n",
              "      <th></th>\n",
              "      <th>Models</th>\n",
              "      <th>Training time</th>\n",
              "      <th>Inference time</th>\n",
              "      <th>rmse</th>\n",
              "    </tr>\n",
              "  </thead>\n",
              "  <tbody>\n",
              "    <tr>\n",
              "      <th>0</th>\n",
              "      <td>Linear Regression</td>\n",
              "      <td>0.058681</td>\n",
              "      <td>0.005538</td>\n",
              "      <td>1.247852</td>\n",
              "    </tr>\n",
              "    <tr>\n",
              "      <th>1</th>\n",
              "      <td>Random Forest</td>\n",
              "      <td>5.188354</td>\n",
              "      <td>0.038974</td>\n",
              "      <td>0.138212</td>\n",
              "    </tr>\n",
              "  </tbody>\n",
              "</table>\n",
              "</div>"
            ],
            "text/plain": [
              "              Models  Training time  Inference time      rmse\n",
              "0  Linear Regression       0.058681        0.005538  1.247852\n",
              "1      Random Forest       5.188354        0.038974  0.138212"
            ]
          },
          "metadata": {},
          "execution_count": 55
        }
      ]
    },
    {
      "cell_type": "code",
      "metadata": {
        "colab": {
          "base_uri": "https://localhost:8080/",
          "height": 802
        },
        "id": "BJXaQwFzCK90",
        "outputId": "3c31090e-00e6-4aab-be65-7831bf2cec9d"
      },
      "source": [
        "f = plt.figure(figsize=(25, 15))\n",
        "feat_importances = pd.Series(model_RF.feature_importances_, index=dummy_test.columns)\n",
        "feat_importances.nlargest(100).plot(kind='barh')"
      ],
      "execution_count": 56,
      "outputs": [
        {
          "output_type": "execute_result",
          "data": {
            "text/plain": [
              "<matplotlib.axes._subplots.AxesSubplot at 0x7f80dd4247d0>"
            ]
          },
          "metadata": {},
          "execution_count": 56
        },
        {
          "output_type": "display_data",
          "data": {
            "image/png": "[encoded data removed]",
            "text/plain": [
              "<Figure size 1800x1080 with 1 Axes>"
            ]
          },
          "metadata": {
            "needs_background": "light"
          }
        }
      ]
    },
    {
      "cell_type": "code",
      "metadata": {
        "id": "Wby6_sUwEhig"
      },
      "source": [
        "selected_features= feat_importances.sort_values(ascending= False).nlargest(100).index\n",
        "\n",
        "new_train= dummy_train_df.copy()\n",
        "new_train= new_train[selected_features]\n",
        "\n",
        "new_test= dummy_test.copy()\n",
        "new_test= new_test[selected_features]"
      ],
      "execution_count": 58,
      "outputs": []
    },
    {
      "cell_type": "code",
      "metadata": {
        "id": "Fhvq68lkLGqM"
      },
      "source": [
        "train_scaled_features = StandardScaler().fit_transform(new_train)\n",
        "test_scaled_features = StandardScaler().fit_transform(new_test)\n",
        "X_train, X_valid, y_train, y_valid= train_test_split(train_scaled_features, y_clean, test_size= 0.2, random_state= 2)"
      ],
      "execution_count": 59,
      "outputs": []
    },
    {
      "cell_type": "code",
      "metadata": {
        "colab": {
          "base_uri": "https://localhost:8080/"
        },
        "id": "Lsdj46JcLRog",
        "outputId": "25ccfb42-a5bb-47f3-8484-e19c141b290c"
      },
      "source": [
        "start = time.time()\n",
        "rmse_LR= score_dataset_LR(X_train, X_valid, y_train, y_valid)\n",
        "LR_training_time= time.time() - start\n",
        "rmse_LR"
      ],
      "execution_count": 60,
      "outputs": [
        {
          "output_type": "execute_result",
          "data": {
            "text/plain": [
              "0.011102902084492912"
            ]
          },
          "metadata": {},
          "execution_count": 60
        }
      ]
    },
    {
      "cell_type": "code",
      "metadata": {
        "colab": {
          "base_uri": "https://localhost:8080/"
        },
        "id": "hUDbwgRVLScS",
        "outputId": "872e85b8-d079-44f9-8c4a-f8436fef2699"
      },
      "source": [
        "start = time.time()\n",
        "rmse_RF= score_dataset_RF(X_train, X_valid, y_train, y_valid)\n",
        "RF_training_time= time.time() - start\n",
        "rmse_RF"
      ],
      "execution_count": 61,
      "outputs": [
        {
          "output_type": "execute_result",
          "data": {
            "text/plain": [
              "0.13625917230866144"
            ]
          },
          "metadata": {},
          "execution_count": 61
        }
      ]
    },
    {
      "cell_type": "code",
      "metadata": {
        "id": "ifEpC6ghLZnj"
      },
      "source": [
        "model_LR = LinearRegression()\n",
        "model_LR.fit(train_scaled_features, y_clean)\n",
        "\n",
        "start = time.time()\n",
        "\n",
        "test_preds = model_LR.predict(test_scaled_features)\n",
        "\n",
        "LR_inference_time= time.time() - start"
      ],
      "execution_count": 67,
      "outputs": []
    },
    {
      "cell_type": "code",
      "metadata": {
        "id": "utZhF3vPLeCg"
      },
      "source": [
        "model_RF = RandomForestRegressor(random_state=50)\n",
        "model_RF.fit(train_scaled_features, y)\n",
        "\n",
        "start = time.time()\n",
        "\n",
        "test_preds2 = model_RF.predict(test_scaled_features)\n",
        "\n",
        "RF_inference_time= time.time() - start"
      ],
      "execution_count": 63,
      "outputs": []
    },
    {
      "cell_type": "code",
      "metadata": {
        "colab": {
          "base_uri": "https://localhost:8080/",
          "height": 112
        },
        "id": "2nMi-t6ILhXy",
        "outputId": "b2e417cb-98e2-4821-bb52-3144505d3fcc"
      },
      "source": [
        "results = pd.DataFrame({'Models':['Linear Regression','Random Forest'], 'Training time':[LR_training_time, RF_training_time], \n",
        "                          'Inference time':[LR_inference_time, RF_inference_time], 'rmse':[rmse_LR, rmse_RF]})\n",
        "results"
      ],
      "execution_count": 64,
      "outputs": [
        {
          "output_type": "execute_result",
          "data": {
            "text/html": [
              "<div>\n",
              "<style scoped>\n",
              "    .dataframe tbody tr th:only-of-type {\n",
              "        vertical-align: middle;\n",
              "    }\n",
              "\n",
              "    .dataframe tbody tr th {\n",
              "        vertical-align: top;\n",
              "    }\n",
              "\n",
              "    .dataframe thead th {\n",
              "        text-align: right;\n",
              "    }\n",
              "</style>\n",
              "<table border=\"1\" class=\"dataframe\">\n",
              "  <thead>\n",
              "    <tr style=\"text-align: right;\">\n",
              "      <th></th>\n",
              "      <th>Models</th>\n",
              "      <th>Training time</th>\n",
              "      <th>Inference time</th>\n",
              "      <th>rmse</th>\n",
              "    </tr>\n",
              "  </thead>\n",
              "  <tbody>\n",
              "    <tr>\n",
              "      <th>0</th>\n",
              "      <td>Linear Regression</td>\n",
              "      <td>0.025178</td>\n",
              "      <td>0.004846</td>\n",
              "      <td>0.011103</td>\n",
              "    </tr>\n",
              "    <tr>\n",
              "      <th>1</th>\n",
              "      <td>Random Forest</td>\n",
              "      <td>3.883183</td>\n",
              "      <td>0.038340</td>\n",
              "      <td>0.136259</td>\n",
              "    </tr>\n",
              "  </tbody>\n",
              "</table>\n",
              "</div>"
            ],
            "text/plain": [
              "              Models  Training time  Inference time      rmse\n",
              "0  Linear Regression       0.025178        0.004846  0.011103\n",
              "1      Random Forest       3.883183        0.038340  0.136259"
            ]
          },
          "metadata": {},
          "execution_count": 64
        }
      ]
    },
    {
      "cell_type": "markdown",
      "metadata": {
        "id": "JIAArvfPOKfk"
      },
      "source": [
        "Reducing the dimension of the dataset using feature importances improved the linear regression model performance by 99.1%, decreased the training time by 57.1% and the inference time by 12.5%.\n",
        "\n",
        "For model built with random forest, performance improved by 1.4% while training and inference time decreased by 25.2% and 1.6% respectively.\n",
        "\n",
        "This shows that high dimensionality makes linear models give a poor performance  unlike tree models. Overall, quality is better than quantity when building machine learning models"
      ]
    },
    {
      "cell_type": "code",
      "metadata": {
        "id": "Bzn9rOXm2p5Q"
      },
      "source": [
        "file = {'Id': test.iloc[:, 0], 'SalePrice': test_preds2}\n",
        "\n",
        "submission = pd.DataFrame(file, columns = ['Id', 'SalePrice'])\n",
        "\n",
        "submission.to_csv('Iowa_base_Submission11.csv', index = False)"
      ],
      "execution_count": 69,
      "outputs": []
    },
    {
      "cell_type": "markdown",
      "metadata": {
        "id": "ovkGAfQQMBzX"
      },
      "source": [
        "The model built with 100 features selected from the random forest model feature importances achieved 0.13997 on the leaderboard."
      ]
    }
  ]
}